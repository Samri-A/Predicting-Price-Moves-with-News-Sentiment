{
 "cells": [
  {
   "cell_type": "code",
   "execution_count": 6,
   "id": "9e6a8928",
   "metadata": {},
   "outputs": [],
   "source": [
    "import sys\n",
    "sys.path.append('../scripts')\n",
    "from analysis import get_sentiment"
   ]
  },
  {
   "cell_type": "code",
   "execution_count": 5,
   "id": "0de08b02",
   "metadata": {},
   "outputs": [],
   "source": [
    "import pandas as pd\n",
    "import talib\n",
    "import matplotlib.pyplot as plt"
   ]
  },
  {
   "cell_type": "code",
   "execution_count": 4,
   "id": "21fb6d26",
   "metadata": {},
   "outputs": [],
   "source": [
    "import sys\n",
    "sys.path.append('..')"
   ]
  },
  {
   "cell_type": "code",
   "execution_count": 5,
   "id": "b0af9a2d",
   "metadata": {},
   "outputs": [],
   "source": [
    "def load(path):\n",
    "    \"\"\"\n",
    "    Load the dataset from a CSV file and return it as a pandas DataFrame.\n",
    "    \"\"\"\n",
    "    df = pd.read_csv(path)\n",
    "    df['Date'] = pd.to_datetime(df['Date'])\n",
    "    return df"
   ]
  },
  {
   "cell_type": "code",
   "execution_count": 6,
   "id": "9feedbcf",
   "metadata": {},
   "outputs": [],
   "source": [
    "stock_data_aapl = load(\"../src/data/AAPL_historical_data.csv\")\n",
    "stock_data_goog = load(\"../src/data/GOOG_historical_data.csv\")\n",
    "stock_data_amzn = load(\"../src/data/AMZN_historical_data.csv\")\n",
    "stock_data_msft = load(\"../src/data/MSFT_historical_data.csv\")\n",
    "stock_data_nvda = load(\"../src/data/NVDA_historical_data.csv\")\n",
    "stock_data_tsla = load(\"../src/data/TSLA_historical_data.csv\")\n",
    "stock_data_meta = load(\"../src/data/META_historical_data.csv\")"
   ]
  },
  {
   "cell_type": "code",
   "execution_count": 7,
   "id": "47061bee",
   "metadata": {},
   "outputs": [
    {
     "data": {
      "text/html": [
       "<div>\n",
       "<style scoped>\n",
       "    .dataframe tbody tr th:only-of-type {\n",
       "        vertical-align: middle;\n",
       "    }\n",
       "\n",
       "    .dataframe tbody tr th {\n",
       "        vertical-align: top;\n",
       "    }\n",
       "\n",
       "    .dataframe thead th {\n",
       "        text-align: right;\n",
       "    }\n",
       "</style>\n",
       "<table border=\"1\" class=\"dataframe\">\n",
       "  <thead>\n",
       "    <tr style=\"text-align: right;\">\n",
       "      <th></th>\n",
       "      <th>Date</th>\n",
       "      <th>Open</th>\n",
       "      <th>High</th>\n",
       "      <th>Low</th>\n",
       "      <th>Close</th>\n",
       "      <th>Adj Close</th>\n",
       "      <th>Volume</th>\n",
       "      <th>Dividends</th>\n",
       "      <th>Stock Splits</th>\n",
       "    </tr>\n",
       "  </thead>\n",
       "  <tbody>\n",
       "    <tr>\n",
       "      <th>0</th>\n",
       "      <td>1980-12-12</td>\n",
       "      <td>0.128348</td>\n",
       "      <td>0.128906</td>\n",
       "      <td>0.128348</td>\n",
       "      <td>0.128348</td>\n",
       "      <td>0.098943</td>\n",
       "      <td>469033600</td>\n",
       "      <td>0.0</td>\n",
       "      <td>0.0</td>\n",
       "    </tr>\n",
       "    <tr>\n",
       "      <th>1</th>\n",
       "      <td>1980-12-15</td>\n",
       "      <td>0.122210</td>\n",
       "      <td>0.122210</td>\n",
       "      <td>0.121652</td>\n",
       "      <td>0.121652</td>\n",
       "      <td>0.093781</td>\n",
       "      <td>175884800</td>\n",
       "      <td>0.0</td>\n",
       "      <td>0.0</td>\n",
       "    </tr>\n",
       "    <tr>\n",
       "      <th>2</th>\n",
       "      <td>1980-12-16</td>\n",
       "      <td>0.113281</td>\n",
       "      <td>0.113281</td>\n",
       "      <td>0.112723</td>\n",
       "      <td>0.112723</td>\n",
       "      <td>0.086898</td>\n",
       "      <td>105728000</td>\n",
       "      <td>0.0</td>\n",
       "      <td>0.0</td>\n",
       "    </tr>\n",
       "    <tr>\n",
       "      <th>3</th>\n",
       "      <td>1980-12-17</td>\n",
       "      <td>0.115513</td>\n",
       "      <td>0.116071</td>\n",
       "      <td>0.115513</td>\n",
       "      <td>0.115513</td>\n",
       "      <td>0.089049</td>\n",
       "      <td>86441600</td>\n",
       "      <td>0.0</td>\n",
       "      <td>0.0</td>\n",
       "    </tr>\n",
       "    <tr>\n",
       "      <th>4</th>\n",
       "      <td>1980-12-18</td>\n",
       "      <td>0.118862</td>\n",
       "      <td>0.119420</td>\n",
       "      <td>0.118862</td>\n",
       "      <td>0.118862</td>\n",
       "      <td>0.091630</td>\n",
       "      <td>73449600</td>\n",
       "      <td>0.0</td>\n",
       "      <td>0.0</td>\n",
       "    </tr>\n",
       "  </tbody>\n",
       "</table>\n",
       "</div>"
      ],
      "text/plain": [
       "        Date      Open      High       Low     Close  Adj Close     Volume  \\\n",
       "0 1980-12-12  0.128348  0.128906  0.128348  0.128348   0.098943  469033600   \n",
       "1 1980-12-15  0.122210  0.122210  0.121652  0.121652   0.093781  175884800   \n",
       "2 1980-12-16  0.113281  0.113281  0.112723  0.112723   0.086898  105728000   \n",
       "3 1980-12-17  0.115513  0.116071  0.115513  0.115513   0.089049   86441600   \n",
       "4 1980-12-18  0.118862  0.119420  0.118862  0.118862   0.091630   73449600   \n",
       "\n",
       "   Dividends  Stock Splits  \n",
       "0        0.0           0.0  \n",
       "1        0.0           0.0  \n",
       "2        0.0           0.0  \n",
       "3        0.0           0.0  \n",
       "4        0.0           0.0  "
      ]
     },
     "execution_count": 7,
     "metadata": {},
     "output_type": "execute_result"
    }
   ],
   "source": [
    "stock_data_aapl.head()"
   ]
  },
  {
   "cell_type": "code",
   "execution_count": 8,
   "id": "4dd1f97d",
   "metadata": {},
   "outputs": [
    {
     "name": "stdout",
     "output_type": "stream",
     "text": [
      "<class 'pandas.core.frame.DataFrame'>\n",
      "RangeIndex: 10998 entries, 0 to 10997\n",
      "Data columns (total 9 columns):\n",
      " #   Column        Non-Null Count  Dtype         \n",
      "---  ------        --------------  -----         \n",
      " 0   Date          10998 non-null  datetime64[ns]\n",
      " 1   Open          10998 non-null  float64       \n",
      " 2   High          10998 non-null  float64       \n",
      " 3   Low           10998 non-null  float64       \n",
      " 4   Close         10998 non-null  float64       \n",
      " 5   Adj Close     10998 non-null  float64       \n",
      " 6   Volume        10998 non-null  int64         \n",
      " 7   Dividends     10998 non-null  float64       \n",
      " 8   Stock Splits  10998 non-null  float64       \n",
      "dtypes: datetime64[ns](1), float64(7), int64(1)\n",
      "memory usage: 773.4 KB\n"
     ]
    }
   ],
   "source": [
    "stock_data_aapl.info()"
   ]
  },
  {
   "cell_type": "markdown",
   "id": "9637391b",
   "metadata": {},
   "source": [
    "* Analysis Closing PriceWithDate"
   ]
  },
  {
   "cell_type": "code",
   "execution_count": null,
   "id": "0e62e2dd",
   "metadata": {},
   "outputs": [
    {
     "data": {
      "image/png": "[encoded data removed]",
      "text/plain": [
       "<Figure size 500x1000 with 1 Axes>"
      ]
     },
     "metadata": {},
     "output_type": "display_data"
    }
   ],
   "source": [
    "fig, axs = plt.subplots(figsize=(5, 10))  # Adjust figsize as needed\n",
    "axs.plot(stock_data_aapl['Date'], stock_data_aapl['Close'], label='Close',color='green')\n",
    "axs.set_title('AAPL')\n",
    "axs.legend()\n",
    "plt.show()"
   ]
  },
  {
   "cell_type": "markdown",
   "id": "9363cc0f",
   "metadata": {},
   "source": [
    "* TA-Lib - Technical Analysis"
   ]
  },
  {
   "cell_type": "code",
   "execution_count": 11,
   "id": "e1ebbc9a",
   "metadata": {},
   "outputs": [],
   "source": [
    "\n",
    "stock_data_aapl['SMA'] = talib.SMA(stock_data_aapl['Close'], timeperiod=20)\n",
    "stock_data_aapl['RSI'] = talib.RSI(stock_data_aapl['Close'], timeperiod=14)\n",
    "stock_data_aapl['EMA'] = talib.EMA(stock_data_aapl['Close'], timeperiod=20)\n",
    "\n",
    "macd_signal, macd, _ = talib.MACD(stock_data_aapl['Close'])\n",
    "stock_data_aapl['MACD'] =macd\n",
    "stock_data_aapl['MACD_Signal']=macd_signal\n"
   ]
  },
  {
   "cell_type": "markdown",
   "id": "e2096a64",
   "metadata": {},
   "source": [
    "# Visual represent the relationship between technical indicators and closing price."
   ]
  },
  {
   "cell_type": "markdown",
   "id": "81c9c2d5",
   "metadata": {},
   "source": [
    "* Closing price VS Moving Average Convergence Divergence (MACD) Indicator"
   ]
  },
  {
   "cell_type": "code",
   "execution_count": 22,
   "id": "7e972086",
   "metadata": {},
   "outputs": [
    {
     "data": {
      "image/png": "[encoded data removed]",
      "text/plain": [
       "<Figure size 800x600 with 1 Axes>"
      ]
     },
     "metadata": {},
     "output_type": "display_data"
    }
   ],
   "source": [
    "fig, axs = plt.subplots(figsize=(8,6))\n",
    "\n",
    "# for AAPL\n",
    "axs.plot(stock_data_aapl['Date'], stock_data_aapl['Close'],label=\"Close\")\n",
    "axs.set_title(\"AAPL Stock Price\")\n",
    "axs.legend()\n",
    "axs.axhline(y=5, color='r',linestyle=\"--\")\n",
    "axs.axhline(y=-5, color='g',linestyle=\"--\")\n",
    "axs.plot(stock_data_aapl['Date'],stock_data_aapl['MACD'], color='orange', label=\"MACD\")\n",
    "axs.plot(stock_data_aapl['Date'],stock_data_aapl['MACD_Signal'], color='r', label=\"MACD_Signal\")\n",
    "axs.legend()\n",
    "plt.show()"
   ]
  },
  {
   "cell_type": "code",
   "execution_count": 12,
   "id": "8c96dd06",
   "metadata": {},
   "outputs": [
    {
     "data": {
      "text/html": [
       "<div>\n",
       "<style scoped>\n",
       "    .dataframe tbody tr th:only-of-type {\n",
       "        vertical-align: middle;\n",
       "    }\n",
       "\n",
       "    .dataframe tbody tr th {\n",
       "        vertical-align: top;\n",
       "    }\n",
       "\n",
       "    .dataframe thead th {\n",
       "        text-align: right;\n",
       "    }\n",
       "</style>\n",
       "<table border=\"1\" class=\"dataframe\">\n",
       "  <thead>\n",
       "    <tr style=\"text-align: right;\">\n",
       "      <th></th>\n",
       "      <th>Date</th>\n",
       "      <th>Open</th>\n",
       "      <th>High</th>\n",
       "      <th>Low</th>\n",
       "      <th>Close</th>\n",
       "      <th>Adj Close</th>\n",
       "      <th>Volume</th>\n",
       "      <th>Dividends</th>\n",
       "      <th>Stock Splits</th>\n",
       "      <th>SMA</th>\n",
       "      <th>RSI</th>\n",
       "      <th>EMA</th>\n",
       "      <th>MACD</th>\n",
       "      <th>MACD_Signal</th>\n",
       "    </tr>\n",
       "  </thead>\n",
       "  <tbody>\n",
       "    <tr>\n",
       "      <th>0</th>\n",
       "      <td>1980-12-12</td>\n",
       "      <td>0.128348</td>\n",
       "      <td>0.128906</td>\n",
       "      <td>0.128348</td>\n",
       "      <td>0.128348</td>\n",
       "      <td>0.098943</td>\n",
       "      <td>469033600</td>\n",
       "      <td>0.0</td>\n",
       "      <td>0.0</td>\n",
       "      <td>NaN</td>\n",
       "      <td>NaN</td>\n",
       "      <td>NaN</td>\n",
       "      <td>NaN</td>\n",
       "      <td>NaN</td>\n",
       "    </tr>\n",
       "    <tr>\n",
       "      <th>1</th>\n",
       "      <td>1980-12-15</td>\n",
       "      <td>0.122210</td>\n",
       "      <td>0.122210</td>\n",
       "      <td>0.121652</td>\n",
       "      <td>0.121652</td>\n",
       "      <td>0.093781</td>\n",
       "      <td>175884800</td>\n",
       "      <td>0.0</td>\n",
       "      <td>0.0</td>\n",
       "      <td>NaN</td>\n",
       "      <td>NaN</td>\n",
       "      <td>NaN</td>\n",
       "      <td>NaN</td>\n",
       "      <td>NaN</td>\n",
       "    </tr>\n",
       "    <tr>\n",
       "      <th>2</th>\n",
       "      <td>1980-12-16</td>\n",
       "      <td>0.113281</td>\n",
       "      <td>0.113281</td>\n",
       "      <td>0.112723</td>\n",
       "      <td>0.112723</td>\n",
       "      <td>0.086898</td>\n",
       "      <td>105728000</td>\n",
       "      <td>0.0</td>\n",
       "      <td>0.0</td>\n",
       "      <td>NaN</td>\n",
       "      <td>NaN</td>\n",
       "      <td>NaN</td>\n",
       "      <td>NaN</td>\n",
       "      <td>NaN</td>\n",
       "    </tr>\n",
       "    <tr>\n",
       "      <th>3</th>\n",
       "      <td>1980-12-17</td>\n",
       "      <td>0.115513</td>\n",
       "      <td>0.116071</td>\n",
       "      <td>0.115513</td>\n",
       "      <td>0.115513</td>\n",
       "      <td>0.089049</td>\n",
       "      <td>86441600</td>\n",
       "      <td>0.0</td>\n",
       "      <td>0.0</td>\n",
       "      <td>NaN</td>\n",
       "      <td>NaN</td>\n",
       "      <td>NaN</td>\n",
       "      <td>NaN</td>\n",
       "      <td>NaN</td>\n",
       "    </tr>\n",
       "    <tr>\n",
       "      <th>4</th>\n",
       "      <td>1980-12-18</td>\n",
       "      <td>0.118862</td>\n",
       "      <td>0.119420</td>\n",
       "      <td>0.118862</td>\n",
       "      <td>0.118862</td>\n",
       "      <td>0.091630</td>\n",
       "      <td>73449600</td>\n",
       "      <td>0.0</td>\n",
       "      <td>0.0</td>\n",
       "      <td>NaN</td>\n",
       "      <td>NaN</td>\n",
       "      <td>NaN</td>\n",
       "      <td>NaN</td>\n",
       "      <td>NaN</td>\n",
       "    </tr>\n",
       "  </tbody>\n",
       "</table>\n",
       "</div>"
      ],
      "text/plain": [
       "        Date      Open      High       Low     Close  Adj Close     Volume  \\\n",
       "0 1980-12-12  0.128348  0.128906  0.128348  0.128348   0.098943  469033600   \n",
       "1 1980-12-15  0.122210  0.122210  0.121652  0.121652   0.093781  175884800   \n",
       "2 1980-12-16  0.113281  0.113281  0.112723  0.112723   0.086898  105728000   \n",
       "3 1980-12-17  0.115513  0.116071  0.115513  0.115513   0.089049   86441600   \n",
       "4 1980-12-18  0.118862  0.119420  0.118862  0.118862   0.091630   73449600   \n",
       "\n",
       "   Dividends  Stock Splits  SMA  RSI  EMA  MACD  MACD_Signal  \n",
       "0        0.0           0.0  NaN  NaN  NaN   NaN          NaN  \n",
       "1        0.0           0.0  NaN  NaN  NaN   NaN          NaN  \n",
       "2        0.0           0.0  NaN  NaN  NaN   NaN          NaN  \n",
       "3        0.0           0.0  NaN  NaN  NaN   NaN          NaN  \n",
       "4        0.0           0.0  NaN  NaN  NaN   NaN          NaN  "
      ]
     },
     "execution_count": 12,
     "metadata": {},
     "output_type": "execute_result"
    }
   ],
   "source": [
    "stock_data_aapl.head()"
   ]
  },
  {
   "cell_type": "code",
   "execution_count": 16,
   "id": "ae53510f",
   "metadata": {},
   "outputs": [
    {
     "data": {
      "text/plain": [
       "Date             0\n",
       "Open             0\n",
       "High             0\n",
       "Low              0\n",
       "Close            0\n",
       "Adj Close        0\n",
       "Volume           0\n",
       "Dividends        0\n",
       "Stock Splits     0\n",
       "SMA             19\n",
       "RSI             14\n",
       "EMA             19\n",
       "MACD            33\n",
       "MACD_Signal     33\n",
       "dtype: int64"
      ]
     },
     "execution_count": 16,
     "metadata": {},
     "output_type": "execute_result"
    }
   ],
   "source": [
    "stock_data_aapl.isnull().sum()"
   ]
  },
  {
   "cell_type": "code",
   "execution_count": 17,
   "id": "4b5464a4",
   "metadata": {},
   "outputs": [],
   "source": [
    "stock_data_aapl.dropna(inplace=True)"
   ]
  },
  {
   "cell_type": "code",
   "execution_count": 26,
   "id": "bdda2fca",
   "metadata": {},
   "outputs": [
    {
     "data": {
      "text/plain": [
       "33    0.001789\n",
       "34    0.001045\n",
       "35    0.000282\n",
       "36   -0.000382\n",
       "37   -0.000949\n",
       "Name: MACD, dtype: float64"
      ]
     },
     "execution_count": 26,
     "metadata": {},
     "output_type": "execute_result"
    }
   ],
   "source": [
    "stock_data_aapl[\"MACD\"].head()"
   ]
  },
  {
   "cell_type": "code",
   "execution_count": null,
   "id": "0cda866d",
   "metadata": {},
   "outputs": [],
   "source": []
  }
 ],
 "metadata": {
  "kernelspec": {
   "display_name": "venv",
   "language": "python",
   "name": "python3"
  },
  "language_info": {
   "codemirror_mode": {
    "name": "ipython",
    "version": 3
   },
   "file_extension": ".py",
   "mimetype": "text/x-python",
   "name": "python",
   "nbconvert_exporter": "python",
   "pygments_lexer": "ipython3",
   "version": "3.13.3"
  }
 },
 "nbformat": 4,
 "nbformat_minor": 5
}
